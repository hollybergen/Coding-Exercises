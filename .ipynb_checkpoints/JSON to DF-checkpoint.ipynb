{
 "cells": [
  {
   "cell_type": "code",
   "execution_count": 42,
   "metadata": {},
   "outputs": [],
   "source": [
    "import json\n",
    "import pandas as pd\n",
    "from pandas import DataFrame"
   ]
  },
  {
   "cell_type": "markdown",
   "metadata": {},
   "source": [
    "# Creating DataFrame from JSON Object"
   ]
  },
  {
   "cell_type": "code",
   "execution_count": 36,
   "metadata": {},
   "outputs": [],
   "source": [
    "# Define JSON object INSIDE string\n",
    "\n",
    "raw_data = \"\"\"\n",
    "{\n",
    "  \"data\":[\n",
    "      {\n",
    "    \"id\" : 1,\n",
    "    \"name\":\"bob\",\n",
    "    \"job\":\"builder\",\n",
    "    \"glasses\": [\"brown\", \"black\", \"white\"],\n",
    "    \"pets\" : [{\"type\":\"dog\"},{\"type\":\"cat\"}]\n",
    "  },\n",
    "  {\n",
    "    \"id\" : 2,\n",
    "    \"name\":\"jim\",\n",
    "    \"job\":\"carpenter\",\n",
    "    \"glasses\": [\"red\", \"green\", \"yellow\"],\n",
    "    \"pets\" : [{\"type\":\"rabbit\"},{\"type\":\"fish\"}]\n",
    "  },\n",
    "  {\n",
    "    \"id\" : 3,\n",
    "    \"name\":\"steve\",\n",
    "    \"job\":\"mason\",\n",
    "    \"glasses\": [\"coke bottle\", \"reading\", \"sun glasses\"],\n",
    "    \"pets\" : [{\"type\":\"mouse\"},{\"type\":\"tiger\"}]\n",
    "  },\n",
    "  {\n",
    "    \"id\" : 4,\n",
    "    \"name\":\"frank\",\n",
    "    \"job\":\"roofer\",\n",
    "    \"glasses\": [\"plastic\", \"fancy\", \"boring\"],\n",
    "    \"pets\" : [{\"type\":\"dog\"},{\"type\":\"dog\"},{\"type\":\"dog\"}]\n",
    "  },\n",
    "  {\n",
    "    \"id\" : 5,\n",
    "    \"name\":\"bill\",\n",
    "    \"job\":\"landscaper\",\n",
    "    \"glasses\": [\"orange\", \"sun glasses\", \"red\"],\n",
    "    \"pets\" : [{\"type\":\"cat\"},{\"type\":\"dog\"},{\"type\":\"cat\"}]\n",
    "  }\n",
    "    ]\n",
    "} \"\"\""
   ]
  },
  {
   "cell_type": "code",
   "execution_count": 37,
   "metadata": {},
   "outputs": [],
   "source": [
    "# LOADS = load string (from json object)\n",
    "\n",
    "data = json.loads(raw_data)"
   ]
  },
  {
   "cell_type": "code",
   "execution_count": 38,
   "metadata": {},
   "outputs": [
    {
     "data": {
      "text/plain": [
       "{'data': [{'id': 1,\n",
       "   'name': 'bob',\n",
       "   'job': 'builder',\n",
       "   'glasses': ['brown', 'black', 'white'],\n",
       "   'pets': [{'type': 'dog'}, {'type': 'cat'}]},\n",
       "  {'id': 2,\n",
       "   'name': 'jim',\n",
       "   'job': 'carpenter',\n",
       "   'glasses': ['red', 'green', 'yellow'],\n",
       "   'pets': [{'type': 'rabbit'}, {'type': 'fish'}]},\n",
       "  {'id': 3,\n",
       "   'name': 'steve',\n",
       "   'job': 'mason',\n",
       "   'glasses': ['coke bottle', 'reading', 'sun glasses'],\n",
       "   'pets': [{'type': 'mouse'}, {'type': 'tiger'}]},\n",
       "  {'id': 4,\n",
       "   'name': 'frank',\n",
       "   'job': 'roofer',\n",
       "   'glasses': ['plastic', 'fancy', 'boring'],\n",
       "   'pets': [{'type': 'dog'}, {'type': 'dog'}, {'type': 'dog'}]},\n",
       "  {'id': 5,\n",
       "   'name': 'bill',\n",
       "   'job': 'landscaper',\n",
       "   'glasses': ['orange', 'sun glasses', 'red'],\n",
       "   'pets': [{'type': 'cat'}, {'type': 'dog'}, {'type': 'cat'}]}]}"
      ]
     },
     "execution_count": 38,
     "metadata": {},
     "output_type": "execute_result"
    }
   ],
   "source": [
    "data"
   ]
  },
  {
   "cell_type": "code",
   "execution_count": 40,
   "metadata": {},
   "outputs": [
    {
     "data": {
      "text/plain": [
       "{'id': 1,\n",
       " 'name': 'bob',\n",
       " 'job': 'builder',\n",
       " 'glasses': ['brown', 'black', 'white'],\n",
       " 'pets': [{'type': 'dog'}, {'type': 'cat'}]}"
      ]
     },
     "execution_count": 40,
     "metadata": {},
     "output_type": "execute_result"
    }
   ],
   "source": [
    "data['data'][0]"
   ]
  },
  {
   "cell_type": "code",
   "execution_count": 47,
   "metadata": {},
   "outputs": [],
   "source": [
    "df = DataFrame(data)"
   ]
  },
  {
   "cell_type": "code",
   "execution_count": 48,
   "metadata": {},
   "outputs": [
    {
     "data": {
      "text/html": [
       "<div>\n",
       "<style scoped>\n",
       "    .dataframe tbody tr th:only-of-type {\n",
       "        vertical-align: middle;\n",
       "    }\n",
       "\n",
       "    .dataframe tbody tr th {\n",
       "        vertical-align: top;\n",
       "    }\n",
       "\n",
       "    .dataframe thead th {\n",
       "        text-align: right;\n",
       "    }\n",
       "</style>\n",
       "<table border=\"1\" class=\"dataframe\">\n",
       "  <thead>\n",
       "    <tr style=\"text-align: right;\">\n",
       "      <th></th>\n",
       "      <th>data</th>\n",
       "    </tr>\n",
       "  </thead>\n",
       "  <tbody>\n",
       "    <tr>\n",
       "      <th>0</th>\n",
       "      <td>{'id': 1, 'name': 'bob', 'job': 'builder', 'gl...</td>\n",
       "    </tr>\n",
       "    <tr>\n",
       "      <th>1</th>\n",
       "      <td>{'id': 2, 'name': 'jim', 'job': 'carpenter', '...</td>\n",
       "    </tr>\n",
       "    <tr>\n",
       "      <th>2</th>\n",
       "      <td>{'id': 3, 'name': 'steve', 'job': 'mason', 'gl...</td>\n",
       "    </tr>\n",
       "    <tr>\n",
       "      <th>3</th>\n",
       "      <td>{'id': 4, 'name': 'frank', 'job': 'roofer', 'g...</td>\n",
       "    </tr>\n",
       "    <tr>\n",
       "      <th>4</th>\n",
       "      <td>{'id': 5, 'name': 'bill', 'job': 'landscaper',...</td>\n",
       "    </tr>\n",
       "  </tbody>\n",
       "</table>\n",
       "</div>"
      ],
      "text/plain": [
       "                                                data\n",
       "0  {'id': 1, 'name': 'bob', 'job': 'builder', 'gl...\n",
       "1  {'id': 2, 'name': 'jim', 'job': 'carpenter', '...\n",
       "2  {'id': 3, 'name': 'steve', 'job': 'mason', 'gl...\n",
       "3  {'id': 4, 'name': 'frank', 'job': 'roofer', 'g...\n",
       "4  {'id': 5, 'name': 'bill', 'job': 'landscaper',..."
      ]
     },
     "execution_count": 48,
     "metadata": {},
     "output_type": "execute_result"
    }
   ],
   "source": [
    "df"
   ]
  },
  {
   "cell_type": "code",
   "execution_count": 53,
   "metadata": {},
   "outputs": [
    {
     "name": "stdout",
     "output_type": "stream",
     "text": [
      "({'id': 1, 'name': 'bob', 'job': 'builder', 'glasses': ['brown', 'black', 'white'], 'pets': [{'type': 'dog'}, {'type': 'cat'}]},)\n",
      "({'id': 2, 'name': 'jim', 'job': 'carpenter', 'glasses': ['red', 'green', 'yellow'], 'pets': [{'type': 'rabbit'}, {'type': 'fish'}]},)\n",
      "({'id': 3, 'name': 'steve', 'job': 'mason', 'glasses': ['coke bottle', 'reading', 'sun glasses'], 'pets': [{'type': 'mouse'}, {'type': 'tiger'}]},)\n",
      "({'id': 4, 'name': 'frank', 'job': 'roofer', 'glasses': ['plastic', 'fancy', 'boring'], 'pets': [{'type': 'dog'}, {'type': 'dog'}, {'type': 'dog'}]},)\n",
      "({'id': 5, 'name': 'bill', 'job': 'landscaper', 'glasses': ['orange', 'sun glasses', 'red'], 'pets': [{'type': 'cat'}, {'type': 'dog'}, {'type': 'cat'}]},)\n"
     ]
    }
   ],
   "source": [
    "for row in (zip(data['data'])):\n",
    "    print(row)"
   ]
  },
  {
   "cell_type": "code",
   "execution_count": null,
   "metadata": {},
   "outputs": [],
   "source": []
  }
 ],
 "metadata": {
  "kernelspec": {
   "display_name": "Python 3",
   "language": "python",
   "name": "python3"
  },
  "language_info": {
   "codemirror_mode": {
    "name": "ipython",
    "version": 3
   },
   "file_extension": ".py",
   "mimetype": "text/x-python",
   "name": "python",
   "nbconvert_exporter": "python",
   "pygments_lexer": "ipython3",
   "version": "3.6.7"
  }
 },
 "nbformat": 4,
 "nbformat_minor": 2
}
