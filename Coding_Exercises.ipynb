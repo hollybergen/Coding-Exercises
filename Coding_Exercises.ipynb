{
 "cells": [
  {
   "cell_type": "markdown",
   "metadata": {},
   "source": [
    "## 1) Adding 1 to array"
   ]
  },
  {
   "cell_type": "markdown",
   "metadata": {},
   "source": [
    "https://www.youtube.com/watch?v=uQdy914JRKQ&t=582s"
   ]
  },
  {
   "cell_type": "code",
   "execution_count": null,
   "metadata": {},
   "outputs": [],
   "source": [
    "# Take in array, add one, output new array\n",
    "\n",
    "array = [1,2,4]\n",
    "\n",
    "def add_one(arr):\n",
    "    result = [] * len(array)\n",
    "    carry = 1\n",
    "    for i in range(len(arr), 0):\n",
    "        new_sum = i + carry\n",
    "        if new_sum == 10:\n",
    "            carry = 1\n",
    "        else:\n",
    "            carry = 0\n",
    "    print(carry)"
   ]
  },
  {
   "cell_type": "code",
   "execution_count": null,
   "metadata": {},
   "outputs": [],
   "source": [
    "add_one(array)"
   ]
  },
  {
   "cell_type": "markdown",
   "metadata": {},
   "source": [
    "## 2) Stock prices"
   ]
  },
  {
   "cell_type": "markdown",
   "metadata": {},
   "source": [
    "https://www.interviewcake.com/question/python3/stock-price"
   ]
  },
  {
   "cell_type": "code",
   "execution_count": null,
   "metadata": {},
   "outputs": [],
   "source": [
    "stock_prices = [10, 7, 5, 8, 11, 9]\n",
    "\n",
    "def get_max_profit(stock_prices):\n",
    "    \n",
    "    max_num = 0\n",
    "    min_num = min(stock_prices)\n",
    "    \n",
    "    for i in stock_prices:\n",
    "        if i > max_num:\n",
    "            max_num = i\n",
    "#             current = i\n",
    "            \n",
    "        elif i < min_num:\n",
    "            min_num = i\n",
    "#             current = i\n",
    "            \n",
    "    return max_num - min_num"
   ]
  },
  {
   "cell_type": "code",
   "execution_count": null,
   "metadata": {},
   "outputs": [],
   "source": [
    "get_max_profit(stock_prices)"
   ]
  },
  {
   "cell_type": "markdown",
   "metadata": {},
   "source": [
    "# 3) Recursion/ Fibonacci Sequence"
   ]
  },
  {
   "cell_type": "markdown",
   "metadata": {},
   "source": [
    "https://www.youtube.com/watch?v=B0NtAFf4bvU&t=923s"
   ]
  },
  {
   "cell_type": "code",
   "execution_count": 211,
   "metadata": {},
   "outputs": [],
   "source": [
    "def fib(n):\n",
    "    if n >= 3:\n",
    "        return fib(n-1) + fib(n-2) # Here it is ADDING the nth place - 2nd left position and 1st left position\n",
    "    if n == 1:\n",
    "        return 0\n",
    "    else:\n",
    "        return 1"
   ]
  },
  {
   "cell_type": "code",
   "execution_count": 212,
   "metadata": {},
   "outputs": [
    {
     "data": {
      "text/plain": [
       "21"
      ]
     },
     "execution_count": 212,
     "metadata": {},
     "output_type": "execute_result"
    }
   ],
   "source": [
    "fib(9)"
   ]
  },
  {
   "cell_type": "code",
   "execution_count": 213,
   "metadata": {},
   "outputs": [
    {
     "data": {
      "text/plain": [
       "1"
      ]
     },
     "execution_count": 213,
     "metadata": {},
     "output_type": "execute_result"
    }
   ],
   "source": [
    "fib(2)"
   ]
  },
  {
   "cell_type": "code",
   "execution_count": 214,
   "metadata": {},
   "outputs": [
    {
     "data": {
      "text/plain": [
       "0"
      ]
     },
     "execution_count": 214,
     "metadata": {},
     "output_type": "execute_result"
    }
   ],
   "source": [
    "fib(1)"
   ]
  },
  {
   "cell_type": "code",
   "execution_count": 206,
   "metadata": {},
   "outputs": [
    {
     "name": "stdout",
     "output_type": "stream",
     "text": [
      "0\n",
      "1\n",
      "1\n",
      "2\n",
      "3\n",
      "5\n",
      "8\n",
      "13\n",
      "21\n",
      "34\n"
     ]
    }
   ],
   "source": [
    "# Write a Fibonacci Sequence, to print out addiiton of previous 2 numbers\n",
    "\n",
    "a,b = 0,1\n",
    "for i in range(0,10):\n",
    "    print(a)\n",
    "    a, b = b, a+b"
   ]
  },
  {
   "cell_type": "markdown",
   "metadata": {},
   "source": [
    "# Sorting?"
   ]
  },
  {
   "cell_type": "code",
   "execution_count": null,
   "metadata": {},
   "outputs": [],
   "source": [
    "array1 = [5, 0]\n",
    "array = [5, 1, 7, 0]"
   ]
  },
  {
   "cell_type": "code",
   "execution_count": null,
   "metadata": {},
   "outputs": [],
   "source": [
    "for a in range(0,len(array)-1):\n",
    "    #print(array[a+1])\n",
    "    if array[a] > array[a+1]:\n",
    "        array[a] = array[a+1]\n",
    "        array[a+1] = array[a]\n",
    "    elif array[a] > array[a+1]:\n",
    "        array[a] = array[a+1]\n",
    "        array[a+1] = array[a]\n",
    "print(array)"
   ]
  },
  {
   "cell_type": "code",
   "execution_count": null,
   "metadata": {},
   "outputs": [],
   "source": [
    "sort(array)"
   ]
  },
  {
   "cell_type": "code",
   "execution_count": null,
   "metadata": {},
   "outputs": [],
   "source": [
    "array1 = [5, 0]\n",
    "array2 = [5, 0, 7]"
   ]
  },
  {
   "cell_type": "code",
   "execution_count": null,
   "metadata": {},
   "outputs": [],
   "source": [
    "new_arr = []\n",
    "\n",
    "def sort(array):\n",
    "    for a in range(0,len(arr)-1):\n",
    "        if arr[a] > arr[a+1]:\n",
    "            new_arr.append(arr[a+1])\n",
    "        elif arr[a] <= arr[a+1]:\n",
    "            new_arr.append(arr[a])\n",
    "        \n",
    "            \n",
    "            \n",
    "            return new_arr\n",
    "        \n",
    "sort(array1)"
   ]
  },
  {
   "cell_type": "code",
   "execution_count": null,
   "metadata": {},
   "outputs": [],
   "source": [
    "new_arr.append(arr)"
   ]
  },
  {
   "cell_type": "code",
   "execution_count": null,
   "metadata": {},
   "outputs": [],
   "source": [
    "print(new_arr)"
   ]
  },
  {
   "cell_type": "code",
   "execution_count": null,
   "metadata": {},
   "outputs": [],
   "source": [
    "def sort(arr):\n",
    "    new_list = []\n",
    "    n = len(arr)\n",
    "    \n",
    "    for a in range(0,n):\n",
    "        if arr[a] > arr[a+1]:\n",
    "            sort(arr[a:n])\n",
    "        elif arr[a] <= arr[a+1]:\n",
    "            new_list.append(arr[a])\n",
    "        elif arr[a]-1 == n:\n",
    "            break\n",
    "\n",
    "    return new_list"
   ]
  },
  {
   "cell_type": "code",
   "execution_count": null,
   "metadata": {},
   "outputs": [],
   "source": [
    "sort(array2)"
   ]
  },
  {
   "cell_type": "code",
   "execution_count": null,
   "metadata": {},
   "outputs": [],
   "source": [
    "array2 = [5, 0, 7]"
   ]
  },
  {
   "cell_type": "code",
   "execution_count": null,
   "metadata": {},
   "outputs": [],
   "source": [
    "def sort(arr):\n",
    "    \n",
    "    new_list = []\n",
    "    n = len(arr)\n",
    "    \n",
    "    for a in range(0,n):\n",
    "        if arr[a] == min(arr):\n",
    "            new_list.append(arr[a])\n",
    "            arr[a] = max(arr) + 1\n",
    "        else:\n",
    "            pass\n",
    "            \n",
    "    return new_list\n",
    "\n",
    "sort(array2)"
   ]
  },
  {
   "cell_type": "code",
   "execution_count": null,
   "metadata": {},
   "outputs": [],
   "source": [
    "len(array2)"
   ]
  },
  {
   "cell_type": "code",
   "execution_count": null,
   "metadata": {},
   "outputs": [],
   "source": [
    "n = len(array2)\n",
    "\n",
    "for a in range(0,n):\n",
    "    print(a)"
   ]
  },
  {
   "cell_type": "markdown",
   "metadata": {},
   "source": [
    "# Cracking the Coding Interview"
   ]
  },
  {
   "cell_type": "markdown",
   "metadata": {},
   "source": [
    "### Arrays & Strings - pg. 73, Solutions on pg. 173"
   ]
  },
  {
   "cell_type": "code",
   "execution_count": null,
   "metadata": {},
   "outputs": [],
   "source": [
    "# Determine if string has all unique characters\n",
    "\n",
    "string = 'stringsss'\n",
    "\n",
    "def isUnique(str):\n",
    "    str_dict = {}\n",
    "    for s in string:\n",
    "        if s in str_dict:\n",
    "            return('Not Unique')\n",
    "            break\n",
    "        else:\n",
    "            str_dict[s] = 1\n",
    "    return(\"Is Unique\")"
   ]
  },
  {
   "cell_type": "code",
   "execution_count": null,
   "metadata": {},
   "outputs": [],
   "source": [
    "isUnique(string)"
   ]
  },
  {
   "cell_type": "code",
   "execution_count": null,
   "metadata": {},
   "outputs": [],
   "source": [
    "# Determine if string has all unique characters, but without using different data structure\n",
    "\n",
    "# Using same data structure (string), but a new one\n",
    "string = 'string'\n",
    "\n",
    "def isUnique2(str):\n",
    "    new_str = \"\"\n",
    "    for s in str:\n",
    "        if s in new_str:\n",
    "            return('Not Unique')\n",
    "            break\n",
    "        else:\n",
    "            new_str += s\n",
    "    return(\"Unique\")"
   ]
  },
  {
   "cell_type": "code",
   "execution_count": null,
   "metadata": {},
   "outputs": [],
   "source": [
    "isUnique2('strings')"
   ]
  },
  {
   "cell_type": "markdown",
   "metadata": {},
   "source": [
    "Given 2 strings, write a method to decide if one is a permutation of the other"
   ]
  },
  {
   "cell_type": "code",
   "execution_count": null,
   "metadata": {},
   "outputs": [],
   "source": [
    "str1 = 'abcdef'\n",
    "str2 = 'cdeabf'"
   ]
  },
  {
   "cell_type": "code",
   "execution_count": null,
   "metadata": {},
   "outputs": [],
   "source": [
    "sorted(str2) == sorted(str1)"
   ]
  },
  {
   "cell_type": "code",
   "execution_count": null,
   "metadata": {},
   "outputs": [],
   "source": [
    "def are_permutations(str1, str2):\n",
    "    if len(str1) == len(str2):\n",
    "        return(sorted(str2) == sorted(str1))\n",
    "    else:\n",
    "        return(0==1)\n",
    "\n",
    "# A bit shorter\n",
    "def are_permutations(str1, str2):\n",
    "    return(len(str1) == len(str2) and sorted(str2) == sorted(str1))"
   ]
  },
  {
   "cell_type": "code",
   "execution_count": null,
   "metadata": {},
   "outputs": [],
   "source": [
    "are_permutations(str1, str2)"
   ]
  },
  {
   "cell_type": "code",
   "execution_count": null,
   "metadata": {},
   "outputs": [],
   "source": [
    "import collections"
   ]
  },
  {
   "cell_type": "code",
   "execution_count": null,
   "metadata": {},
   "outputs": [],
   "source": [
    "str1 = 'abcdef'\n",
    "str2 = 'cdeabg'"
   ]
  },
  {
   "cell_type": "code",
   "execution_count": null,
   "metadata": {},
   "outputs": [],
   "source": [
    "# Must use defaultdict to add 1 since normal dict will throw error that key doesn't exist\n",
    "perm = collections.defaultdict(int)\n",
    "\n",
    "# Builds dict and adds 1 for each char in string\n",
    "for char in str1: \n",
    "    perm[char] += 1 \n",
    "\n",
    "# Subtracts 1 for each char from existing dictionary\n",
    "for char in str2: \n",
    "    perm[char] -= 1 \n",
    "\n",
    "# Evaluates if there are all 0s for each char. If not, that means they didn't match\n",
    "print(perm)\n",
    "print(not any(perm.values()))"
   ]
  },
  {
   "cell_type": "code",
   "execution_count": null,
   "metadata": {},
   "outputs": [],
   "source": [
    "# This function will evaluate length of string. If less than 10,000, it will use the first sorting method. \n",
    "# If greater, it will use the dictionary method. \n",
    "\n",
    "def are_permutations2(str1, str2):\n",
    "    if len(str1) == len(str2):\n",
    "        if len(str1) < 10000 & len(str2) < 10000:\n",
    "            return(sorted(str2) == sorted(str1))\n",
    "        else:\n",
    "            perm = collections.defaultdict(int)\n",
    "            for char in str1: \n",
    "                perm[char] += 1 \n",
    "            for char in str2: \n",
    "                perm[char] -= 1 \n",
    "            return(not any(perm.values()))   \n",
    "    else:\n",
    "        return(0==1)  "
   ]
  },
  {
   "cell_type": "code",
   "execution_count": null,
   "metadata": {},
   "outputs": [],
   "source": [
    "are_permutations2(str1, str2)"
   ]
  },
  {
   "cell_type": "code",
   "execution_count": null,
   "metadata": {},
   "outputs": [],
   "source": []
  },
  {
   "cell_type": "markdown",
   "metadata": {},
   "source": [
    "Write a program to print all permutations of a given string"
   ]
  },
  {
   "cell_type": "code",
   "execution_count": null,
   "metadata": {},
   "outputs": [],
   "source": [
    "string = 'abc'"
   ]
  },
  {
   "cell_type": "code",
   "execution_count": null,
   "metadata": {},
   "outputs": [],
   "source": []
  },
  {
   "cell_type": "code",
   "execution_count": null,
   "metadata": {},
   "outputs": [],
   "source": []
  },
  {
   "cell_type": "markdown",
   "metadata": {},
   "source": [
    "# Binary Search\n",
    "https://www.youtube.com/watch?v=DE-ye0t0oxE"
   ]
  },
  {
   "cell_type": "code",
   "execution_count": null,
   "metadata": {},
   "outputs": [],
   "source": [
    "arr = [-1,0,1,3,5,10,15,20]\n",
    "x = 15\n",
    "\n",
    "def findNum(arr,x):\n",
    "    f = 0\n",
    "    l = len(arr)-1\n",
    "    mid = 0\n",
    "    \n",
    "    while l - f > 1:\n",
    "        \n",
    "        print(f, mid, l)\n",
    "        \n",
    "        mid = int(f+(l/2))       # 6+(7/2) = 6+3.5 = 9\n",
    "        print(f'MID = index :',mid, 'value :',arr[mid])\n",
    "        \n",
    "        if arr[mid] == x:\n",
    "            return(f'Item found at index: ', mid)\n",
    "        \n",
    "        elif arr[f] == x:\n",
    "            return(f'Item found at index: ', f)\n",
    "        \n",
    "        elif arr[l] == x:\n",
    "            return(f'Item found at index: ', l)\n",
    "\n",
    "        elif arr[mid] < x:\n",
    "            f = mid\n",
    "            print(f'New first item = ',arr[f])\n",
    "\n",
    "        elif arr[mid] > x:\n",
    "            l = mid - 1\n",
    "            print(f'New last item = ',arr[l])\n",
    "        \n",
    "        else:\n",
    "            return(\"Item not found\")\n",
    " \n",
    "    return(\"Not found\")"
   ]
  },
  {
   "cell_type": "code",
   "execution_count": null,
   "metadata": {},
   "outputs": [],
   "source": [
    "findNum(arr,21)"
   ]
  },
  {
   "cell_type": "markdown",
   "metadata": {},
   "source": [
    "# From WhiteBoard Webinar"
   ]
  },
  {
   "cell_type": "markdown",
   "metadata": {},
   "source": [
    "https://github.com/coding-boot-camp/cs-technical-curriculum-public/tree/master/data-visualization/whiteboarding"
   ]
  },
  {
   "cell_type": "markdown",
   "metadata": {},
   "source": [
    "## Stringcleaner"
   ]
  },
  {
   "cell_type": "markdown",
   "metadata": {},
   "source": [
    "### Write a function that takes these strings as inputs, and cleans out the numeric characters and return a string with special characters and spacing all intact.\n"
   ]
  },
  {
   "cell_type": "code",
   "execution_count": null,
   "metadata": {},
   "outputs": [],
   "source": [
    "# You just invested in some optical character recognition software, but you saved on the budget and the software isn't that great.\n",
    "\n",
    "# You quickly realize that the software inserts some unnecessary numerical characters.\n",
    "\n",
    "# Your job is to write a function that takes these strings as inputs, and cleans out the numeric characters and return a string with special characters and spacing all intact.\n",
    "\n",
    "# For example:\n",
    "# string_clean('Thi3s looks65 awesom4e!') == 'This looks great!'\n",
    "\n",
    "# Special characters include: ~#$%^&!@*():;\"'.,?\n",
    "\n",
    "# input number params: n>=0 && n<=arr.length\n",
    "\n",
    "\n",
    "\n",
    "def string_clean(string):\n",
    "\n",
    "\n",
    "\n",
    "print(string_clean('Thi3s looks65 awesom4e!'));"
   ]
  },
  {
   "cell_type": "code",
   "execution_count": null,
   "metadata": {},
   "outputs": [],
   "source": [
    "# Iterate through string and for digit, create new string without digit\n",
    "\n",
    "newStr = \"\"\n",
    "string = 'Thi3s looks65 awesom4e!'\n",
    "\n",
    "for i in range(len(string)):\n",
    "\n",
    "        if not string[i].isnumeric():\n",
    "            newStr = newStr + string[i]\n"
   ]
  },
  {
   "cell_type": "code",
   "execution_count": null,
   "metadata": {},
   "outputs": [],
   "source": [
    "newStr"
   ]
  },
  {
   "cell_type": "code",
   "execution_count": null,
   "metadata": {},
   "outputs": [],
   "source": [
    "string = 'Thi3s looks65 awesom4e!'"
   ]
  },
  {
   "cell_type": "code",
   "execution_count": null,
   "metadata": {},
   "outputs": [],
   "source": [
    "# Other option: Iterating through list of digits to search in list and replace with ''\n",
    "\n",
    "for i in range(0,10):\n",
    "    i=str(i)\n",
    "    if i in string:\n",
    "        \n",
    "        # if it is, replace with nothing ''\n",
    "        string=string.replace(i,'')\n",
    "\n",
    "# return the string\n",
    "print(string)"
   ]
  },
  {
   "cell_type": "markdown",
   "metadata": {},
   "source": [
    "## Camelcase Converter"
   ]
  },
  {
   "cell_type": "markdown",
   "metadata": {},
   "source": [
    "### Write a function that takes in a string parameter, 'str', and converts any dashed or underscored words into capital case"
   ]
  },
  {
   "cell_type": "code",
   "execution_count": null,
   "metadata": {},
   "outputs": [],
   "source": [
    "# Example\n",
    "\n",
    "# capitalize(\"this-is-a-string\")\n",
    "# Output: \"ThisIsAString\"\n",
    "\n",
    "\n",
    "def capitalize(str):\n",
    "###################\n",
    "# YOUR CODE HERE\n",
    "###################\n",
    "\n",
    "# test cases\n",
    "print(capitalize(\"this-is-a-string\"))\n",
    "print(capitalize(\"This_is_not_an_integer\"))"
   ]
  },
  {
   "cell_type": "code",
   "execution_count": null,
   "metadata": {},
   "outputs": [],
   "source": [
    "test1 = \"this-is-a-string\"\n",
    "\n",
    "newStr = test1[0].capitalize()\n",
    "\n",
    "for i in range(1,len(test1)):\n",
    "#     print(test1[i])\n",
    "\n",
    "    if not test1[i-1].isalpha():\n",
    "        newStr = newStr + test1[i].capitalize()\n",
    "        \n",
    "    elif test1[i].isalpha():\n",
    "        newStr = newStr + test1[i]\n",
    "        \n",
    "    else:\n",
    "        pass"
   ]
  },
  {
   "cell_type": "code",
   "execution_count": null,
   "metadata": {},
   "outputs": [],
   "source": [
    "newStr"
   ]
  },
  {
   "cell_type": "code",
   "execution_count": null,
   "metadata": {},
   "outputs": [],
   "source": []
  },
  {
   "cell_type": "code",
   "execution_count": null,
   "metadata": {},
   "outputs": [],
   "source": [
    "badChar = '_' or '-'\n",
    "newWord = \"\"\n",
    "\n",
    "def wordConverter(str):\n",
    "    for i in range(len(str)):\n",
    "        "
   ]
  },
  {
   "cell_type": "code",
   "execution_count": null,
   "metadata": {},
   "outputs": [],
   "source": []
  },
  {
   "cell_type": "code",
   "execution_count": null,
   "metadata": {},
   "outputs": [],
   "source": []
  },
  {
   "cell_type": "code",
   "execution_count": null,
   "metadata": {},
   "outputs": [],
   "source": [
    "string = \"IamCat\"\n",
    "\n",
    "for char in string:\n",
    "    print(char)"
   ]
  },
  {
   "cell_type": "code",
   "execution_count": null,
   "metadata": {},
   "outputs": [],
   "source": [
    "for i in range(len(string)):\n",
    "    print(i)"
   ]
  },
  {
   "cell_type": "code",
   "execution_count": null,
   "metadata": {},
   "outputs": [],
   "source": [
    "# capitalize(\"this-is-a-string\")\n",
    "# Output: \"ThisIsAString\"\n",
    "\n",
    "\n",
    "def capitalize(str):\n",
    "     return str.title().replace(\"-\", \"\").replace(\"_\", \"\")\n",
    "\n",
    "\n",
    "# test cases\n",
    "print(capitalize(\"this-is-a-string\"))\n",
    "print(capitalize(\"This_is_not_an_integer\"))"
   ]
  },
  {
   "cell_type": "code",
   "execution_count": null,
   "metadata": {},
   "outputs": [],
   "source": [
    "string1 = \"this is a-string\"\n",
    "print(string1.title())"
   ]
  },
  {
   "cell_type": "markdown",
   "metadata": {},
   "source": [
    "## Word Tumbler"
   ]
  },
  {
   "cell_type": "markdown",
   "metadata": {},
   "source": [
    "### Write a function that takes in a string containing at least one word, but may contain several. It should return the same string, but any words containing five (5) or more letters should be reversed.\n"
   ]
  },
  {
   "cell_type": "code",
   "execution_count": null,
   "metadata": {},
   "outputs": [],
   "source": [
    "# Examples:\n",
    "# word_tumble(\"Hello this is a fantastic example.\") => \"olleH this is a citsatnaf elpmaxe\"\n",
    "# word_tumble( \"This is another test\" ) => \"This is rehtona test\"\n",
    "\n",
    "# Constraints:\n",
    "# Strings will only consist of letters and spaces\n",
    "# Spaces will be included only to separate words\n",
    "\n",
    "\n",
    "def word_tumble(str):\n",
    "\n",
    "    # YOUR CODE HERE\n",
    "\n",
    "# Test cases\n",
    "print(word_tumble(\"Hello this is a fantastic example.\"))\n",
    "print(word_tumble(\"This is another test\"))\n",
    "print(word_tumble(\"Give me one more shot\"))\n",
    "print(word_tumble(\"Elephants are extremely intelligent animals\"))"
   ]
  },
  {
   "cell_type": "code",
   "execution_count": null,
   "metadata": {},
   "outputs": [],
   "source": [
    "string = \"Hello this is a fantastic example.\"\n",
    "\n",
    "newStr = \"\"\n",
    "words = string.split()\n",
    "\n",
    "# print(words)\n",
    "\n",
    "for word in words:\n",
    "    if len(word) > 5:\n",
    "        newWord = word[::-1]\n",
    "        newStr = newStr + newWord + \" \"\n",
    "    else:\n",
    "        newStr = newStr + word + \" \"\n",
    "        \n",
    "print(newStr)"
   ]
  },
  {
   "cell_type": "code",
   "execution_count": null,
   "metadata": {},
   "outputs": [],
   "source": [
    "string = \"I,am,cat\"\n",
    "print(string.split(\",\"))"
   ]
  },
  {
   "cell_type": "code",
   "execution_count": null,
   "metadata": {},
   "outputs": [],
   "source": [
    "def word_tumble(str):\n",
    "\n",
    "    # split the string into an array that we can manipulate\n",
    "    words = [word for word in str.split(\" \")]\n",
    "\n",
    "    # now we can loop through each of the words in the string\n",
    "    # if the word in the current iteration is greater than or equal to 5 chars in length\n",
    "    words = [word if len(word) < 5 else word[::-1] for word in words]\n",
    "\n",
    "    # then we can return the original array after joining it back together as a string with the new reversed words\n",
    "    return \" \".join(words)"
   ]
  },
  {
   "cell_type": "code",
   "execution_count": null,
   "metadata": {},
   "outputs": [],
   "source": [
    "class Solution(object):\n",
    "    def reverseWords(self, s):\n",
    "        \n",
    "        \"\"\"\n",
    "        :type s: str\n",
    "        :rtype: str\n",
    "        \"\"\"\n",
    "\n",
    "        words = s.split(\" \")\n",
    "        words = [word[::-1] for word in words]\n",
    "\n",
    "        return \" \".join(words)"
   ]
  },
  {
   "cell_type": "code",
   "execution_count": null,
   "metadata": {},
   "outputs": [],
   "source": [
    "string"
   ]
  },
  {
   "cell_type": "code",
   "execution_count": null,
   "metadata": {},
   "outputs": [],
   "source": [
    "words = [word for word in string.split(\" \")]"
   ]
  },
  {
   "cell_type": "code",
   "execution_count": null,
   "metadata": {},
   "outputs": [],
   "source": [
    "words = string.split()"
   ]
  },
  {
   "cell_type": "code",
   "execution_count": null,
   "metadata": {},
   "outputs": [],
   "source": [
    "print(words)"
   ]
  },
  {
   "cell_type": "code",
   "execution_count": null,
   "metadata": {},
   "outputs": [],
   "source": [
    "for word in words:\n",
    "    if len(word) < 5:\n",
    "        word = word\n",
    "        print(word)\n",
    "    else:\n",
    "        word = word[::-1]\n",
    "        print(word)"
   ]
  },
  {
   "cell_type": "code",
   "execution_count": null,
   "metadata": {},
   "outputs": [],
   "source": [
    "word_tumble(string)"
   ]
  },
  {
   "cell_type": "markdown",
   "metadata": {},
   "source": [
    "## Fizzbuzz++"
   ]
  },
  {
   "cell_type": "markdown",
   "metadata": {},
   "source": [
    "### Write a function that completes the solution  so that it returns the sum of all mulitples of 3 or 5 below the number passed in as a parameter. However, if the number is a multiple of 3 and 5 (i.e. 15), you should only count it once in your final value."
   ]
  },
  {
   "cell_type": "code",
   "execution_count": null,
   "metadata": {},
   "outputs": [],
   "source": [
    "# For this activity, consider the original FizzBuzz challenge. This is FizzBuzz++. \n",
    "# If we take an input number, like 15, for example, all the natural numbers that are also multiples of 3 or 5 are 3, 5, 6, 9, 12. The sum of these numbers is 35.\n",
    "\n",
    "# Write a function that completes the solution so that it returns the sum of all mulitples of 3 or 5 below the number passed in as a parameter. However, if the number is a multiple of 3 and 5 (i.e. 15), you should only count it once in your final value.\n",
    "\n",
    "def fizzBuzzPlusPlus(number):\n",
    "\n",
    "  \n",
    "# Test cases\n",
    "print(fizzBuzzPlusPlus(10)) # 23\n",
    "print(fizzBuzzPlusPlus(15)) # 45\n",
    "print(fizzBuzzPlusPlus(35)) # 258\n",
    "print(fizzBuzzPlusPlus(500)) # 57918"
   ]
  },
  {
   "cell_type": "code",
   "execution_count": null,
   "metadata": {},
   "outputs": [],
   "source": [
    "15 % 5"
   ]
  },
  {
   "cell_type": "code",
   "execution_count": null,
   "metadata": {},
   "outputs": [],
   "source": [
    "num = 15\n",
    "numList = []"
   ]
  },
  {
   "cell_type": "code",
   "execution_count": null,
   "metadata": {},
   "outputs": [],
   "source": [
    "def fizzBuzzPlusPlus(num):\n",
    "    \n",
    "    numList = []\n",
    "    for i in range(2,num):\n",
    "        if i % 3 == 0:\n",
    "            numList.append(i)\n",
    "        elif i % 5 == 0:\n",
    "            numList.append(i)\n",
    "        else:\n",
    "            pass\n",
    "\n",
    "    return sum(numList)"
   ]
  },
  {
   "cell_type": "code",
   "execution_count": null,
   "metadata": {},
   "outputs": [],
   "source": [
    "numList"
   ]
  },
  {
   "cell_type": "code",
   "execution_count": null,
   "metadata": {},
   "outputs": [],
   "source": [
    "print(fizzBuzzPlusPlus(15))"
   ]
  },
  {
   "cell_type": "code",
   "execution_count": null,
   "metadata": {},
   "outputs": [],
   "source": [
    "print(fizzBuzzPlusPlus(500))"
   ]
  },
  {
   "cell_type": "code",
   "execution_count": null,
   "metadata": {},
   "outputs": [],
   "source": [
    "def fizzBuzzPlusPlus(number):\n",
    "\n",
    "    # initialize a variable to hold the total that we will later return\n",
    "    # set this to 0\n",
    "    sum = 0\n",
    "\n",
    "    # loop as long as i is less than the number param that we received\n",
    "    for i in range(number):\n",
    "\n",
    "        # for each iteration, check if i is a mulitple of 3 or 5\n",
    "        if (i % 3) == 0 or (i % 5) == 0:\n",
    "\n",
    "            # if so, increment sum by that value\n",
    "            sum += i\n",
    "    \n",
    "    # return sum\n",
    "    return sum"
   ]
  },
  {
   "cell_type": "code",
   "execution_count": null,
   "metadata": {},
   "outputs": [],
   "source": []
  },
  {
   "cell_type": "markdown",
   "metadata": {},
   "source": [
    "# Vowel Counter"
   ]
  },
  {
   "cell_type": "code",
   "execution_count": null,
   "metadata": {},
   "outputs": [],
   "source": [
    "#  Write a function that takes a string input: 'str'\n",
    "#  Return the number / count of vowels in the input string.\n",
    "#  For the purpose of this assignment, consider 'a', 'e', 'i', 'o' and 'u'\n",
    "#  as vowels\n",
    "#  the input string will consist of lower case letters\n",
    "\n",
    "def count_the_vowels(str): \n",
    "\n",
    "    count = 0\n",
    "    vowels = [\"a\",\"e\", \"i\", \"o\", \"u\"]\n",
    "\n",
    "    for char in str:\n",
    "        if char in vowels:\n",
    "            count +=1\n",
    "        else:\n",
    "            pass\n",
    "        \n",
    "    return count"
   ]
  },
  {
   "cell_type": "code",
   "execution_count": null,
   "metadata": {},
   "outputs": [],
   "source": [
    "print(count_the_vowels('this is a string'))"
   ]
  },
  {
   "cell_type": "code",
   "execution_count": null,
   "metadata": {},
   "outputs": [],
   "source": [
    "print(count_the_vowels('supercalifradgelisticexpialidocious'))"
   ]
  },
  {
   "cell_type": "markdown",
   "metadata": {},
   "source": [
    "# Reverse String"
   ]
  },
  {
   "cell_type": "code",
   "execution_count": null,
   "metadata": {},
   "outputs": [],
   "source": []
  },
  {
   "cell_type": "code",
   "execution_count": null,
   "metadata": {},
   "outputs": [],
   "source": [
    "str = [\"a\", \"b\", \"c\"]\n",
    "\n",
    "numChars = len(str)\n",
    "print(numChars)\n",
    "\n",
    "len(newStr)\n",
    "\n",
    "newStr = [] * numChars\n",
    "print(newStr)"
   ]
  },
  {
   "cell_type": "markdown",
   "metadata": {},
   "source": [
    "## Extended slice syntax. \n",
    "It works by doing [begin:end:step] - by leaving begin and end off and specifying a step of -1, it reverses a string."
   ]
  },
  {
   "cell_type": "code",
   "execution_count": null,
   "metadata": {},
   "outputs": [],
   "source": [
    "print(str[::])\n",
    "print(str[::-1])\n",
    "print(str[::1])\n",
    "print(str[::2])\n",
    "print(str[::3])\n",
    "print(str[0:1])\n",
    "print(str[0:2])\n",
    "print(str[0:3])\n",
    "print(str[:1:])\n",
    "print(str[:2:])\n",
    "print(str[:3:])"
   ]
  },
  {
   "cell_type": "code",
   "execution_count": 187,
   "metadata": {},
   "outputs": [
    {
     "data": {
      "text/plain": [
       "'cba'"
      ]
     },
     "execution_count": 187,
     "metadata": {},
     "output_type": "execute_result"
    }
   ],
   "source": [
    "str = \"abc\"\n",
    "l = list(str)\n",
    "\n",
    "for i in l:\n",
    "    newStr = l[::-1]\n",
    "    \n",
    "'or'\n",
    "\n",
    "for i in l:\n",
    "    l[:] = l[::-1]\n",
    "    \n",
    "\"\".join(l)\n",
    "\"\".join(newStr)"
   ]
  },
  {
   "cell_type": "code",
   "execution_count": 192,
   "metadata": {},
   "outputs": [
    {
     "name": "stdout",
     "output_type": "stream",
     "text": [
      "cba\n",
      "cba\n"
     ]
    }
   ],
   "source": [
    "print(\"\".join(l))\n",
    "print(\"\".join(newStr))"
   ]
  },
  {
   "cell_type": "markdown",
   "metadata": {},
   "source": [
    "## Solution from LeetCode:\n",
    "https://leetcode.com/problems/reverse-string/solution/"
   ]
  },
  {
   "cell_type": "code",
   "execution_count": null,
   "metadata": {},
   "outputs": [],
   "source": [
    "class Solution(object):\n",
    "    def reverseString(self, s):\n",
    "        \"\"\"\n",
    "        :type s: List[str]\n",
    "        :rtype: None Do not return anything, modify s in-place instead.\n",
    "        \"\"\"\n",
    "        \n",
    "        left = 0\n",
    "        right = len(s) - 1\n",
    "\n",
    "        while left < right:\n",
    "            s[left], s[right] = s[right], s[left]\n",
    "            left = left + 1\n",
    "            right = right - 1"
   ]
  },
  {
   "cell_type": "markdown",
   "metadata": {},
   "source": [
    "# Reverse String II\n",
    "Given a string and an integer k, you need to reverse the first k characters for every 2k characters counting from the start of the string. If there are less than k characters left, reverse all of them. If there are less than 2k but greater than or equal to k characters, then reverse the first k characters and left the other as original.\n",
    "Example:\n",
    "Input: s = \"abcdefg\", k = 2\n",
    "Output: \"bacdfeg\"\n",
    "Restrictions:\n",
    "The string consists of lower English letters only.\n",
    "Length of the given string and k will in the range [1, 10000]"
   ]
  },
  {
   "cell_type": "code",
   "execution_count": null,
   "metadata": {},
   "outputs": [],
   "source": [
    "'NOTE: Strings are not mutable, so must create new string'\n",
    "\n",
    "str = \"abcdefg\"\n",
    "newStr = str.split()\n",
    "print(newStr)"
   ]
  },
  {
   "cell_type": "code",
   "execution_count": null,
   "metadata": {},
   "outputs": [],
   "source": [
    "# Note: THIS solution only flips first 2. Doesn't find the 2*k chunk\n",
    "\n",
    "str = \"abcdefg\"\n",
    "newStr = \"\"\n",
    "counter = 1\n",
    "\n",
    "\n",
    "for l in str:\n",
    "        if counter == 2:\n",
    "            newStr = l + newStr\n",
    "            counter+=1\n",
    "        else:\n",
    "            newStr = newStr + l\n",
    "            counter+=1"
   ]
  },
  {
   "cell_type": "code",
   "execution_count": null,
   "metadata": {},
   "outputs": [],
   "source": [
    "print(newStr)"
   ]
  },
  {
   "cell_type": "markdown",
   "metadata": {},
   "source": [
    "## LeetCode Solution"
   ]
  },
  {
   "cell_type": "code",
   "execution_count": null,
   "metadata": {},
   "outputs": [],
   "source": [
    "class Solution(object):\n",
    "    def reverseStr(self, s, k):\n",
    "        a = list(s)\n",
    "        for i in xrange(0, len(a), 2*k):\n",
    "            a[i:i+k] = reversed(a[i:i+k])\n",
    "        return \"\".join(a)"
   ]
  },
  {
   "cell_type": "code",
   "execution_count": null,
   "metadata": {},
   "outputs": [],
   "source": [
    "# First create LIST from string\n",
    "# XRANGE creates a list with beginning, end, step, thus creating blocks of the given 2*k size.\n",
    "# Then reverse the first K of range\n",
    "\n",
    "k = 3\n",
    "str = \"abcdefghijkl\"\n",
    "s = list(str)\n",
    "\n",
    "for i in range(0, len(s), 2*k):\n",
    "    s[i:i+k] = reversed(s[i:i+k])\n",
    "\n",
    "print(\"\".join(s))"
   ]
  },
  {
   "cell_type": "code",
   "execution_count": null,
   "metadata": {},
   "outputs": [],
   "source": [
    "str = \"abcdefghijkl\"\n",
    "s = list(str)\n",
    "newStr = reversed(s)\n",
    "print(newStr)"
   ]
  },
  {
   "cell_type": "markdown",
   "metadata": {},
   "source": [
    "# Reverse Integer\n",
    "\n",
    "Given a 32-bit signed integer, reverse digits of an integer.\n",
    "\n",
    "Example 1:\n",
    "\n",
    "Input: 123\n",
    "Output: 321\n",
    "Example 2:\n",
    "\n",
    "Input: -123\n",
    "Output: -321\n",
    "Example 3:\n",
    "\n",
    "Input: 120\n",
    "Output: 21\n",
    "\n",
    "Assume we are dealing with an environment which could only store integers within the 32-bit signed integer range: [−231,  231 − 1]. For the purpose of this problem, assume that your function returns 0 when the reversed integer overflows.\n"
   ]
  },
  {
   "cell_type": "code",
   "execution_count": null,
   "metadata": {
    "scrolled": true
   },
   "outputs": [],
   "source": [
    "num = -123"
   ]
  },
  {
   "cell_type": "code",
   "execution_count": null,
   "metadata": {},
   "outputs": [],
   "source": [
    "type(num)"
   ]
  },
  {
   "cell_type": "code",
   "execution_count": null,
   "metadata": {},
   "outputs": [],
   "source": [
    "myList = list(str(num))"
   ]
  },
  {
   "cell_type": "code",
   "execution_count": null,
   "metadata": {},
   "outputs": [],
   "source": [
    "type(myList)"
   ]
  },
  {
   "cell_type": "code",
   "execution_count": null,
   "metadata": {},
   "outputs": [],
   "source": [
    "print(myList)"
   ]
  },
  {
   "cell_type": "code",
   "execution_count": null,
   "metadata": {},
   "outputs": [],
   "source": [
    "numStr = \"\"\n",
    "oStr = \"\"\n",
    "\n",
    "for i in myList:\n",
    "    if not i.isdigit():\n",
    "        oStr = i + oStr\n",
    "    elif i.isdigit():\n",
    "        numStr = i + numStr    "
   ]
  },
  {
   "cell_type": "code",
   "execution_count": null,
   "metadata": {},
   "outputs": [],
   "source": [
    "#My solution\n",
    "\n",
    "class Solution(object):\n",
    "    def reverse(self, x):\n",
    "        \"\"\"\n",
    "        :type x: int\n",
    "        :rtype: int\n",
    "        \"\"\"\n",
    "        \n",
    "        myList = list(str(x))\n",
    "        numStr = \"\"\n",
    "        oStr = \"\"\n",
    "\n",
    "        for i in myList:\n",
    "            if not i.isdigit():\n",
    "                oStr = i + oStr\n",
    "            elif i.isdigit():\n",
    "                numStr = i + numStr\n",
    "                \n",
    "        answer = int(oStr+numStr)\n",
    "        \n",
    "        if(abs(answer) > (2 ** 31 - 1)):\n",
    "            return 0\n",
    "        else:\n",
    "            return answer"
   ]
  },
  {
   "cell_type": "markdown",
   "metadata": {},
   "source": [
    "## LeetCode Solution\n",
    "https://leetcode.com/problems/reverse-integer/solution/"
   ]
  },
  {
   "cell_type": "code",
   "execution_count": null,
   "metadata": {},
   "outputs": [],
   "source": [
    "if x >= 2**31-1 or x <= -2**31: return 0\n",
    "else:\n",
    "    strg = str(x)\n",
    "    if x >= 0 :\n",
    "        revst = strg[::-1]\n",
    "    else:\n",
    "        temp = strg[1:] \n",
    "        temp2 = temp[::-1] \n",
    "        revst = \"-\" + temp2\n",
    "    if int(revst) >= 2**31-1 or int(revst) <= -2**31: return 0\n",
    "    else: return int(revst)"
   ]
  },
  {
   "cell_type": "markdown",
   "metadata": {},
   "source": [
    "# Two Sum"
   ]
  },
  {
   "cell_type": "code",
   "execution_count": null,
   "metadata": {},
   "outputs": [],
   "source": [
    "# My first try... this won't work because you can't have the SAME NUMBER USED TWICE (example below)\n",
    "\n",
    "nums = [1,2,3,4,5,6,7,8,9]\n",
    "myDict = {}\n",
    "\n",
    "for i, j in enumerate(nums):\n",
    "    myDict[i] = j\n",
    "    \n",
    "for i, j in myDict.items():\n",
    "    for k, l in myDict.items():\n",
    "        if j + l == 15:\n",
    "            found = [i, k]\n",
    "            print(found)\n",
    "            break\n",
    "    if j + l == 15:\n",
    "        break   "
   ]
  },
  {
   "cell_type": "code",
   "execution_count": null,
   "metadata": {},
   "outputs": [],
   "source": [
    "nums = [3,2,4]\n",
    "myDict = {}\n",
    "target = 6\n",
    "\n",
    "for i, j in enumerate(nums):\n",
    "    myDict[i] = j\n",
    "    \n",
    "for i, j in myDict.items():\n",
    "    for k, l in myDict.items():\n",
    "        if j + l == target:\n",
    "            found = [i, k]\n",
    "            print(found)\n",
    "            break\n",
    "    if j + l == target:\n",
    "        break  "
   ]
  },
  {
   "cell_type": "markdown",
   "metadata": {},
   "source": [
    "## Solution"
   ]
  },
  {
   "cell_type": "code",
   "execution_count": null,
   "metadata": {},
   "outputs": [],
   "source": [
    "# Get difference of target to each value in list, store in dictionary\n",
    "\n",
    "nums = [3,2,4]\n",
    "myDict = {}\n",
    "target = 6\n",
    "\n",
    "for i, j in enumerate(nums):\n",
    "    myDict[i] = target - j"
   ]
  },
  {
   "cell_type": "code",
   "execution_count": null,
   "metadata": {},
   "outputs": [],
   "source": [
    "myDict"
   ]
  },
  {
   "cell_type": "code",
   "execution_count": null,
   "metadata": {},
   "outputs": [],
   "source": [
    "#For each, check if DIFFERENCE # already in dictionary and return values'\n",
    "#6 - 3 = 3 => Add to dict\n",
    "#6 - 2 = 4 => Add to dict\n",
    "#6 - 4 = 2 => Number already there so return\n",
    "\n",
    "\n",
    "nums = [3,2,4]\n",
    "target = 6\n",
    "\n",
    "def two_sum(num,t):\n",
    "    if len(nums) <= 1:\n",
    "        return False \n",
    "    \n",
    "    myDict = {}\n",
    "    \n",
    "    for i in range(len(nums)):\n",
    "        if nums[i] in myDict:\n",
    "            return [myDict[nums[i]], i]\n",
    "        else:\n",
    "            myDict[target - nums[i]] = i"
   ]
  },
  {
   "cell_type": "code",
   "execution_count": null,
   "metadata": {},
   "outputs": [],
   "source": [
    "print(two_sum(nums,target))"
   ]
  },
  {
   "cell_type": "markdown",
   "metadata": {},
   "source": [
    "## Palindrome Number"
   ]
  },
  {
   "cell_type": "code",
   "execution_count": null,
   "metadata": {},
   "outputs": [],
   "source": [
    "x = '-121'\n",
    "\n",
    "myLi = list(str(x))\n",
    "newLi = myLi[::-1]\n",
    "    \n",
    "if myLi == newLi:\n",
    "    return True\n",
    "\n",
    "else:\n",
    "    return False"
   ]
  },
  {
   "cell_type": "code",
   "execution_count": null,
   "metadata": {},
   "outputs": [],
   "source": [
    "print(myLi)\n",
    "print(newLi)"
   ]
  },
  {
   "cell_type": "markdown",
   "metadata": {},
   "source": [
    "# Roman to Integer\n",
    "\n",
    "There are six instances where subtraction is used:\n",
    "\n",
    "I can be placed before V (5) and X (10) to make 4 and 9. \n",
    "X can be placed before L (50) and C (100) to make 40 and 90. \n",
    "C can be placed before D (500) and M (1000) to make 400 and 900.\n",
    "Given a roman numeral, convert it to an integer. Input is guaranteed to be within the range from 1 to 3999."
   ]
  },
  {
   "cell_type": "code",
   "execution_count": 1,
   "metadata": {},
   "outputs": [
    {
     "name": "stdout",
     "output_type": "stream",
     "text": [
      "{'I': 1, 'V': 5, 'X': 10, 'L': 50, 'C': 100, 'D': 500, 'M': 1000, 'IV': 4, 'IX': 9, 'XL': 40, 'XC': 90, 'CD': 400, 'CM': 900}\n"
     ]
    }
   ],
   "source": [
    "dict = {\n",
    "    \"I\": 1,\n",
    "    \"V\": 5,\n",
    "    \"X\": 10,\n",
    "    \"L\": 50,\n",
    "    \"C\": 100,\n",
    "    \"D\": 500,\n",
    "    \"M\": 1000,\n",
    "    \"IV\": 4,\n",
    "    \"IX\": 9, \n",
    "    \"XL\": 40, \n",
    "    \"XC\": 90, \n",
    "    \"CD\": 400, \n",
    "    \"CM\": 900\n",
    "}\n",
    "\n",
    "print(dict)"
   ]
  },
  {
   "cell_type": "code",
   "execution_count": 5,
   "metadata": {},
   "outputs": [],
   "source": [
    "s = \"MCMXCIV\"\n",
    "\n",
    "l = list(s)\n",
    "last = 40000\n",
    "count = 0\n",
    "\n",
    "for i in s:\n",
    "\n",
    "    if last < dict[i]:\n",
    "        new = (dict[i]-last)\n",
    "        count = count - last + new\n",
    "        last = dict[i]\n",
    "\n",
    "    else:\n",
    "        count = count + dict[i]\n",
    "        last = dict[i]"
   ]
  },
  {
   "cell_type": "code",
   "execution_count": 6,
   "metadata": {},
   "outputs": [
    {
     "data": {
      "text/plain": [
       "1994"
      ]
     },
     "execution_count": 6,
     "metadata": {},
     "output_type": "execute_result"
    }
   ],
   "source": [
    "count"
   ]
  },
  {
   "cell_type": "code",
   "execution_count": null,
   "metadata": {},
   "outputs": [],
   "source": [
    "class Solution(object):\n",
    "    def romanToInt(self, s):\n",
    "        \"\"\"\n",
    "        :type s: str\n",
    "        :rtype: int\n",
    "        \"\"\"\n",
    "        dict = {\n",
    "            \"I\": 1,\n",
    "            \"V\": 5,\n",
    "            \"X\": 10,\n",
    "            \"L\": 50,\n",
    "            \"C\": 100,\n",
    "            \"D\": 500,\n",
    "            \"M\": 1000,\n",
    "        }\n",
    "        \n",
    "        l = list(s)\n",
    "        last = 2000\n",
    "        count = 0\n",
    "\n",
    "        for i in s:\n",
    "\n",
    "            if last < dict[i]:\n",
    "                new = (dict[i]-last)\n",
    "                count = count - last + new\n",
    "                last = dict[i]\n",
    "\n",
    "            else:\n",
    "                count = count + dict[i]\n",
    "                last = dict[i]\n",
    "                \n",
    "        return count"
   ]
  },
  {
   "cell_type": "markdown",
   "metadata": {},
   "source": [
    "# Longest Common Prefix"
   ]
  },
  {
   "cell_type": "code",
   "execution_count": 131,
   "metadata": {},
   "outputs": [],
   "source": [
    "l = [\"abab\",\"aba\",\"\"]\n",
    "wordDict = {}\n",
    "res = []\n",
    "m = 0\n",
    "n = 0\n",
    "\n",
    "for word in l:\n",
    "    wordLi = list(word)\n",
    "    \n",
    "    if not word == \"\": # Break loop if empty string\n",
    "    \n",
    "        if m == 0: # Just a way to enter first word into dict, and append chars if it's the only word\n",
    "            for i, j in enumerate(word):\n",
    "                wordDict[i] = j\n",
    "                m+=1 \n",
    "                n+=1 # 3\n",
    "                res.append(j)\n",
    "                \n",
    "        else: # Now m = 3, moved on to 2nd word\n",
    "            res = [] # RESET if more than 1 word present\n",
    "            maxLen = n # 1\n",
    "            n = 0\n",
    "            \n",
    "            for i, j in enumerate(word):\n",
    "                if n < maxLen: \n",
    "                    if wordDict[i] == word[i]:\n",
    "                        res.append(j) # a\n",
    "                        n+=1 # 1       \n",
    "                    else:\n",
    "                        break\n",
    "                else:\n",
    "                    break        \n",
    "    else:\n",
    "        res = []\n",
    "        break\n",
    "                \n",
    "res = \"\".join(res)  "
   ]
  },
  {
   "cell_type": "code",
   "execution_count": 132,
   "metadata": {},
   "outputs": [
    {
     "name": "stdout",
     "output_type": "stream",
     "text": [
      "{0: 'a', 1: 'b', 2: 'a', 3: 'b'}\n"
     ]
    }
   ],
   "source": [
    "print(wordDict)"
   ]
  },
  {
   "cell_type": "code",
   "execution_count": 133,
   "metadata": {},
   "outputs": [
    {
     "name": "stdout",
     "output_type": "stream",
     "text": [
      "\n"
     ]
    }
   ],
   "source": [
    "print(str(res))"
   ]
  },
  {
   "cell_type": "markdown",
   "metadata": {},
   "source": [
    "## LeetCode Solutions"
   ]
  },
  {
   "cell_type": "code",
   "execution_count": 146,
   "metadata": {},
   "outputs": [
    {
     "name": "stdout",
     "output_type": "stream",
     "text": [
      "\n"
     ]
    }
   ],
   "source": [
    "# Not sure if this one works, but SORT may be an option\n",
    "\n",
    "strs = [\"abab\",\"aba\",\"\"]\n",
    "\n",
    "if not strs: print(\"\")\n",
    "if len(strs) == 1: print(strs[0])\n",
    "\n",
    "strs.sort()\n",
    "p = \"\"\n",
    "\n",
    "for x, y in zip(strs[0], strs[-1]):\n",
    "    if x == y: p+=x\n",
    "    else: break\n",
    "        \n",
    "print(p)"
   ]
  },
  {
   "cell_type": "code",
   "execution_count": 179,
   "metadata": {},
   "outputs": [
    {
     "name": "stdout",
     "output_type": "stream",
     "text": [
      "car\n",
      "caravan\n",
      "cat\n"
     ]
    }
   ],
   "source": [
    "strs = [\"cat\",\"caravan\",\"car\"]\n",
    "strs.sort()\n",
    "\n",
    "for x in strs:\n",
    "    print(x)"
   ]
  },
  {
   "cell_type": "code",
   "execution_count": 175,
   "metadata": {},
   "outputs": [
    {
     "name": "stdout",
     "output_type": "stream",
     "text": [
      "['c', 'a']\n"
     ]
    }
   ],
   "source": [
    "# THIS ONE WORKS AND IS VERY CONCISE\n",
    "\n",
    "prefix=[]\n",
    "num = len(strs)\n",
    "\n",
    "# ZIP(*): if you have a list t = [1,2], you can either say add(t[0], t[1]) which is needlessly verbose or you can \"unpack\" t \n",
    "# into separate arguments using the * operator like so add(*t). \n",
    "# The * acts as an unpacking operator, take the first element from each string at a time \n",
    "\n",
    "# SET: Returns an empty set if no element is passed. Sorted, non-repeating element iterable modified as passed as argument.\n",
    "\n",
    "# EXAMPLE: ['aab', 'aaaab', 'aaab']\n",
    "\n",
    "for x in zip(*strs): # ea iteration is ('a', 'a', 'a') - ('a', 'a', 'a') - ('b', 'a', 'a')\n",
    "    if len(set(x)) == 1: # ea iteration of set is {'a'}- {'a'} - {'a', 'b'}, since SET is sorting & getting rid of dups\n",
    "        prefix.append(x[0])\n",
    "    else:\n",
    "        break\n",
    "        \n",
    "print(prefix)"
   ]
  },
  {
   "cell_type": "code",
   "execution_count": 177,
   "metadata": {},
   "outputs": [
    {
     "name": "stdout",
     "output_type": "stream",
     "text": [
      "('c', 'c', 'c')\n",
      "('a', 'a', 'a')\n",
      "('t', 'r', 'r')\n",
      "{'c'}\n",
      "{'a'}\n",
      "{'r', 't'}\n"
     ]
    }
   ],
   "source": [
    "for x in zip(*strs):\n",
    "    print((x))\n",
    "\n",
    "for x in zip(*strs):\n",
    "    print(set(x))"
   ]
  },
  {
   "cell_type": "markdown",
   "metadata": {},
   "source": [
    "# Valid Perentheses"
   ]
  },
  {
   "cell_type": "code",
   "execution_count": 279,
   "metadata": {},
   "outputs": [
    {
     "name": "stdout",
     "output_type": "stream",
     "text": [
      "\n"
     ]
    }
   ],
   "source": [
    "test = \"\"\n",
    "t = list(test)\n",
    "\n",
    "o = {0:\"{\",\n",
    "     1:\"(\",\n",
    "     2:\"[\"\n",
    "    }\n",
    "c = [\"}\",\")\",\"]\"]\n",
    "newO = []\n",
    "counter = 0\n",
    "\n",
    "\n",
    "if test == \"\":\n",
    "    print(\"\")\n",
    "\n",
    "else:\n",
    "    for i, j in enumerate(t):\n",
    "\n",
    "        if j in o.values():\n",
    "            newO.append(list(o.keys())[list(o.values()).index(j)])\n",
    "            print(newO)\n",
    "            counter = 0\n",
    "\n",
    "        elif j in c:     \n",
    "            new1 = newO[::-1]\n",
    "            print(new1)\n",
    "            if j == c[new1[counter]]:\n",
    "                print(\"True\")\n",
    "                counter+=1\n",
    "            else:\n",
    "                print(\"False\")\n",
    "                break"
   ]
  },
  {
   "cell_type": "code",
   "execution_count": 342,
   "metadata": {},
   "outputs": [],
   "source": [
    "def isValid(s):\n",
    "    \"\"\"\n",
    "    :type s: str\n",
    "    :rtype: bool\n",
    "    \"\"\"\n",
    "\n",
    "    if s == \"\": # If open string, return valid\n",
    "        return True \n",
    "    \n",
    "    #If string length is ODD, then we know it is invalid. Otherwise continue\n",
    "    elif not len(s) % 2 == 0:\n",
    "        return False\n",
    "    \n",
    "    else:\n",
    "\n",
    "        t = list(s)\n",
    "        o = {0:\"{\",1:\"(\",2:\"[\"}\n",
    "        c = [\"}\",\")\",\"]\"]\n",
    "        newO = []\n",
    "        counter = 0\n",
    "        \n",
    "        if t[-1] in o.values(): # Check if last char is an open peren\n",
    "                return False\n",
    "        \n",
    "        else:\n",
    "            \n",
    "            for i, j in enumerate(t):\n",
    "\n",
    "                if j in o.values(): # If perens are Open, append index # to list to later be reversed\n",
    "                    newO.append(list(o.keys())[list(o.values()).index(j)])\n",
    "                    counter = 0\n",
    "\n",
    "                elif j in c: # If perens are Closed:    \n",
    "\n",
    "                    if i == 0:\n",
    "                        return False # Check if closed peren is first\n",
    "\n",
    "                    new1 = newO[::-1] # Create reversed list of open perens index\n",
    "\n",
    "                    if j == c[new1[counter]]: # Check if char is equal to current loc on list\n",
    "                        counter+=1\n",
    "                        return True\n",
    "                    else:\n",
    "                        return False\n",
    "                        break"
   ]
  },
  {
   "cell_type": "code",
   "execution_count": 343,
   "metadata": {},
   "outputs": [
    {
     "data": {
      "text/plain": [
       "False"
      ]
     },
     "execution_count": 343,
     "metadata": {},
     "output_type": "execute_result"
    }
   ],
   "source": [
    "isValid(\"(()(\")"
   ]
  },
  {
   "cell_type": "code",
   "execution_count": 324,
   "metadata": {},
   "outputs": [],
   "source": [
    "t = \"(()(\"\n",
    "\n",
    "if not len(t) % 2 == 0:\n",
    "    print('odd')"
   ]
  },
  {
   "cell_type": "code",
   "execution_count": 325,
   "metadata": {},
   "outputs": [
    {
     "data": {
      "text/plain": [
       "'('"
      ]
     },
     "execution_count": 325,
     "metadata": {},
     "output_type": "execute_result"
    }
   ],
   "source": [
    "t[-1]"
   ]
  },
  {
   "cell_type": "code",
   "execution_count": 337,
   "metadata": {},
   "outputs": [
    {
     "data": {
      "text/plain": [
       "'('"
      ]
     },
     "execution_count": 337,
     "metadata": {},
     "output_type": "execute_result"
    }
   ],
   "source": [
    "t[0]"
   ]
  },
  {
   "cell_type": "code",
   "execution_count": 339,
   "metadata": {},
   "outputs": [
    {
     "data": {
      "text/plain": [
       "{0: '{', 1: '(', 2: '['}"
      ]
     },
     "execution_count": 339,
     "metadata": {},
     "output_type": "execute_result"
    }
   ],
   "source": [
    "o"
   ]
  },
  {
   "cell_type": "code",
   "execution_count": 341,
   "metadata": {},
   "outputs": [
    {
     "name": "stdout",
     "output_type": "stream",
     "text": [
      "yes\n"
     ]
    }
   ],
   "source": [
    "if t[0] in o.values():\n",
    "    print(\"yes\")"
   ]
  },
  {
   "cell_type": "code",
   "execution_count": null,
   "metadata": {},
   "outputs": [],
   "source": []
  }
 ],
 "metadata": {
  "kernelspec": {
   "display_name": "Python 3",
   "language": "python",
   "name": "python3"
  },
  "language_info": {
   "codemirror_mode": {
    "name": "ipython",
    "version": 3
   },
   "file_extension": ".py",
   "mimetype": "text/x-python",
   "name": "python",
   "nbconvert_exporter": "python",
   "pygments_lexer": "ipython3",
   "version": "3.6.7"
  }
 },
 "nbformat": 4,
 "nbformat_minor": 2
}
